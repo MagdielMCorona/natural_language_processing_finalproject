{
 "cells": [
  {
   "cell_type": "markdown",
   "metadata": {},
   "source": [
    "<div style=\"text-align:center; border-radius:15px; padding:15px; margin:0; font-size:300%; font-family:Arial, sans-serif; background-color:#0008ff; overflow:hidden; box-shadow:0 4px 8px rgba(0, 0, 0, 0.3);\"><b>🎓 PROYECTO DL </b></div>"
   ]
  },
  {
   "cell_type": "markdown",
   "metadata": {},
   "source": [
    "### <div style=\"text-align:center; border-radius:15px; padding:15px; margin:0; font-size:50%; font-family:Arial, sans-serif; background-color:#BCE5FB; color:#013D41; overflow:hidden; box-shadow:0 4px 8px rgba(0, 0, 0, 0.3);\"><b> 📚 Importación de librerías</b></div>"
   ]
  },
  {
   "cell_type": "code",
   "execution_count": 4,
   "metadata": {},
   "outputs": [],
   "source": [
    "# Manipulación de datos\n",
    "import pandas as pd\n",
    "import numpy as np\n",
    "\n",
    "# Visualización\n",
    "import matplotlib.pyplot as plt\n",
    "import seaborn as sns\n",
    "\n",
    "# Preprocesamiento\n",
    "from sklearn.impute import KNNImputer, SimpleImputer\n",
    "from sklearn.model_selection import train_test_split\n",
    "from sklearn.preprocessing import StandardScaler, LabelEncoder, MinMaxScaler, OneHotEncoder\n",
    "\n",
    "# Modelos de machine learning\n",
    "from sklearn.linear_model import LogisticRegression\n",
    "from sklearn.ensemble import RandomForestClassifier\n",
    "from sklearn.svm import SVC\n",
    "from sklearn.tree import DecisionTreeClassifier\n",
    "from sklearn.neighbors import KNeighborsClassifier\n",
    "from xgboost import XGBClassifier\n",
    "\n",
    "# Redes Neuronales\n",
    "import torch\n",
    "import torch.nn as nn\n",
    "import torch.optim as optim\n",
    "from torch.utils.data import DataLoader, TensorDataset\n",
    "\n",
    "# Ver progreso en ciclos\n",
    "from tqdm import tqdm\n",
    "\n",
    "# Métricas de evaluación\n",
    "from sklearn.metrics import accuracy_score, confusion_matrix, classification_report, ConfusionMatrixDisplay\n",
    "\n",
    "# Ignorar warnings\n",
    "import warnings\n",
    "warnings.filterwarnings('ignore')\n",
    "\n",
    "# Modificación de visualizaciones\n",
    "sns.set_theme()\n",
    "pd.set_option('display.max_columns', None)"
   ]
  },
  {
   "cell_type": "markdown",
   "metadata": {},
   "source": [
    "# <div style=\"border-radius:15px; padding:15px; margin:0; font-size:100%; font-family:Arial, sans-serif; background-color:#0074ff; overflow:hidden; box-shadow:0 4px 8px rgba(0, 0, 0, 0.3);\"><b> 1. 📊 Análisis EDA </b></div>"
   ]
  },
  {
   "cell_type": "markdown",
   "metadata": {},
   "source": [
    "## <div style=\"border-radius:15px; padding:15px; margin:0; font-size:70%; font-family:Arial, sans-serif; background-color:#0b835f; overflow:hidden; box-shadow:0 4px 8px rgba(0, 0, 0, 0.3);\"><b> 🔶 1.1 Revisión inicial general</b></div>"
   ]
  },
  {
   "cell_type": "markdown",
   "metadata": {},
   "source": [
    "## <div style=\"border-radius:15px; padding:15px; margin:0; font-size:70%; font-family:Arial, sans-serif; background-color:#0b835f; overflow:hidden; box-shadow:0 4px 8px rgba(0, 0, 0, 0.3);\"><b> 🔶 1.2 Análisis macro por variables</b></div>"
   ]
  },
  {
   "cell_type": "markdown",
   "metadata": {},
   "source": [
    "## <div style=\"border-radius:15px; padding:15px; margin:0; font-size:70%; font-family:Arial, sans-serif; background-color:#0b835f; overflow:hidden; box-shadow:0 4px 8px rgba(0, 0, 0, 0.3);\"><b> 🔶 1.3 Análisis detallado por variables: Categóricas</b></div>"
   ]
  },
  {
   "cell_type": "markdown",
   "metadata": {},
   "source": [
    "### <div style=\"border-radius:15px; padding:15px; margin:0; font-size:60%; font-family:Arial, sans-serif; background-color:rgb(230, 184, 34); color:black; overflow:hidden; box-shadow:0 4px 8px rgba(0, 0, 0, 0.3);\"><b> 🟡 1.3.1 Gender </b></div>"
   ]
  },
  {
   "cell_type": "markdown",
   "metadata": {},
   "source": [
    "### <div style=\"border-radius:15px; padding:15px; margin:0; font-size:60%; font-family:Arial, sans-serif; background-color:rgb(230, 184, 34); color:black; overflow:hidden; box-shadow:0 4px 8px rgba(0, 0, 0, 0.3);\"><b> 🟡 1.3.2 City </b></div>"
   ]
  },
  {
   "cell_type": "markdown",
   "metadata": {},
   "source": [
    "### <div style=\"border-radius:15px; padding:15px; margin:0; font-size:60%; font-family:Arial, sans-serif; background-color:rgb(230, 184, 34); color:black; overflow:hidden; box-shadow:0 4px 8px rgba(0, 0, 0, 0.3);\"><b> 🟡 1.3.3 Profession </b></div>"
   ]
  },
  {
   "cell_type": "markdown",
   "metadata": {},
   "source": [
    "# <div style=\"border-radius:15px; padding:15px; margin:0; font-size:100%; font-family:Arial, sans-serif; background-color:#0074ff; overflow:hidden; box-shadow:0 4px 8px rgba(0, 0, 0, 0.3);\"><b> 2. 📊 Entrenamiento de modelos </b></div>"
   ]
  },
  {
   "cell_type": "markdown",
   "metadata": {},
   "source": [
    "<div style=\"border: 2px solid #0074ff; padding: 15px; border-radius: 10px;\">\n",
    "<p style=\"font-size: 20px; font-weight: bold; color: #0074ff;\">Modelos para la Predicción de la Variable Objetivo</p> \n",
    "<p style=\"font-size: 18px; font-weight: bold; color: #0074ff;\">Modelos clásicos de Machine Learning:</p> \n",
    "    <ul style=\"font-size: 16px; line-height: 1.5\"> \n",
    "    <li><strong>Árboles de decisión</strong>: modelo basado en reglas, puede sobreajustarse.</li> \n",
    "    <li><strong>Random Forest</strong>: conjunto de árboles que mejora la generalización.</li>\n",
    "    <li><strong>Gradient Boosting (XGBoost, LightGBM, CatBoost)</strong>: entrenamiento secuencial, muy eficaz para datos tabulares.</li> \n",
    "    <li><strong>Máquinas de Vectores de Soporte (SVM)</strong>: útil en espacios de alta dimensión.</li>\n",
    "    <li><strong>k-Nearest Neighbors (k-NN)</strong>: clasifica según vecinos cercanos, sensible a escalado y grandes volúmenes.</li>\n",
    "    <li><strong>Regresión logística</strong>: ideal para clasificación binaria, fácil de interpretar.</li>\n",
    "    </ul> \n",
    "<p style=\"font-size: 18px; font-weight: bold; color: #0074ff;\">Modelos basados en Redes Neuronales:</p> \n",
    "    <ul style=\"font-size: 16px; line-height: 1.5\"> \n",
    "    <li><strong>Perceptrón Multicapa (MLP)</strong>: útil para relaciones no lineales complejas.</li> \n",
    "    <li><strong>RNN, LSTM y GRU</strong>: óptimos para secuencias o series temporales.</li> \n",
    "    <li><strong>Transformers</strong>: muy potentes para texto o secuencias complejas.</li> \n",
    "    </ul>\n",
    "<p style=\"font-size: 18px; font-weight: bold; color: #0074ff;\">Modelos probabilísticos y estadísticos:</p> \n",
    "    <ul style=\"font-size: 16px; line-height: 1.5\"> \n",
    "    <li><strong>Naive Bayes</strong>: basado en probabilidades condicionales, muy eficiente con texto.</li>\n",
    "    <li><strong>Regresión lineal</strong>: útil si la variable objetivo es continua.</li>\n",
    "    <li><strong>Análisis Discriminante Lineal (LDA)</strong>: mezcla reducción de dimensionalidad y clasificación.</li> \n",
    "    </ul> \n",
    "<p style=\"font-size: 18px; font-weight: bold; color: #0074ff;\">Técnicas de ensamble e híbridos:</p> \n",
    "    <ul style=\"font-size: 16px; line-height: 1.5\"> \n",
    "    <li><strong>Stacking / Blending</strong>: combina varios modelos base con un modelo meta.</li> \n",
    "    <li><strong>Bagging / Boosting</strong>: mejora estabilidad y precisión del modelo.</li>\n",
    "    </ul> \n",
    " </div>"
   ]
  },
  {
   "cell_type": "markdown",
   "metadata": {},
   "source": [
    "## <div style=\"border-radius:15px; padding:15px; margin:0; font-size:70%; font-family:Arial, sans-serif; background-color:rgb(140, 70, 232); overflow:hidden; box-shadow:0 4px 8px rgba(0, 0, 0, 0.3);\"><b> 🔶 2.0 ENTRENAMIENTO GENERAL PRELIMINAR</b></div>"
   ]
  },
  {
   "cell_type": "markdown",
   "metadata": {},
   "source": [
    "# <div style=\"border-radius:15px; padding:15px; margin:0; font-size:100%; font-family:Arial, sans-serif; background-color:#0074ff; overflow:hidden; box-shadow:0 4px 8px rgba(0, 0, 0, 0.3);\"><b> 3. 📊 Resultados y Visualización </b></div>"
   ]
  },
  {
   "cell_type": "markdown",
   "metadata": {},
   "source": [
    "## <div style=\"border-radius:15px; padding:15px; margin:0; font-size:70%; font-family:Arial, sans-serif; background-color:#0b835f; overflow:hidden; box-shadow:0 4px 8px rgba(0, 0, 0, 0.3);\"><b> 🔶 3.1 Comparación de métricas base vs optimizadas </b></div>"
   ]
  },
  {
   "cell_type": "markdown",
   "metadata": {},
   "source": [
    "### <div style=\"border-radius:15px; padding:15px; margin:0; font-size:60%; font-family:Arial, sans-serif; background-color:rgb(230, 184, 34); color:black; overflow:hidden; box-shadow:0 4px 8px rgba(0, 0, 0, 0.3);\"><b> 🟡 3.1.1 F1_weighted </b></div>"
   ]
  },
  {
   "cell_type": "markdown",
   "metadata": {},
   "source": [
    "### <div style=\"border-radius:15px; padding:15px; margin:0; font-size:60%; font-family:Arial, sans-serif; background-color:rgb(230, 184, 34); color:black; overflow:hidden; box-shadow:0 4px 8px rgba(0, 0, 0, 0.3);\"><b> 🟡 3.1.2 Accuracy </b></div>"
   ]
  },
  {
   "cell_type": "markdown",
   "metadata": {},
   "source": [
    "### <div style=\"border-radius:15px; padding:15px; margin:0; font-size:60%; font-family:Arial, sans-serif; background-color:rgb(230, 184, 34); color:black; overflow:hidden; box-shadow:0 4px 8px rgba(0, 0, 0, 0.3);\"><b> 🟡 3.1.3 Recall </b></div>"
   ]
  },
  {
   "cell_type": "markdown",
   "metadata": {},
   "source": [
    "# <div style=\"border-radius:15px; padding:15px; margin:0; font-size:100%; font-family:Arial, sans-serif; background-color:#0074ff; overflow:hidden; box-shadow:0 4px 8px rgba(0, 0, 0, 0.3);\"><b> 4. 📊 Red Neuronal </b></div>"
   ]
  },
  {
   "cell_type": "markdown",
   "metadata": {},
   "source": [
    "## <div style=\"border-radius:15px; padding:15px; margin:0; font-size:70%; font-family:Arial, sans-serif; background-color:#0b835f; overflow:hidden; box-shadow:0 4px 8px rgba(0, 0, 0, 0.3);\"><b> 🔶 4.1 Transformación de datos en tensores </b></div>"
   ]
  },
  {
   "cell_type": "markdown",
   "metadata": {},
   "source": [
    "## <div style=\"border-radius:15px; padding:15px; margin:0; font-size:70%; font-family:Arial, sans-serif; background-color:#0b835f; overflow:hidden; box-shadow:0 4px 8px rgba(0, 0, 0, 0.3);\"><b> 🔶 4.2 Definición de la estructura de la Red Neuronal </b></div>"
   ]
  },
  {
   "cell_type": "markdown",
   "metadata": {},
   "source": [
    "## <div style=\"border-radius:15px; padding:15px; margin:0; font-size:70%; font-family:Arial, sans-serif; background-color:#0b835f; overflow:hidden; box-shadow:0 4px 8px rgba(0, 0, 0, 0.3);\"><b> 🔶 4.3 Entrenamiento de la Red Neuronal </b></div>"
   ]
  },
  {
   "cell_type": "markdown",
   "metadata": {},
   "source": [
    "## <div style=\"border-radius:15px; padding:15px; margin:0; font-size:70%; font-family:Arial, sans-serif; background-color:#0b835f; overflow:hidden; box-shadow:0 4px 8px rgba(0, 0, 0, 0.3);\"><b> 🔶 4.4 Evaluación de la Red Neuronal </b></div>"
   ]
  },
  {
   "cell_type": "markdown",
   "metadata": {},
   "source": [
    "# <div style=\"border-radius:15px; padding:15px; margin:0; font-size:100%; font-family:Arial, sans-serif; background-color:#0074ff; overflow:hidden; box-shadow:0 4px 8px rgba(0, 0, 0, 0.3);\"><b> 5. 📊 Explicabilidad de los modelos </b></div>\n"
   ]
  },
  {
   "cell_type": "markdown",
   "metadata": {},
   "source": [
    "# <div style=\"border-radius:15px; padding:15px; margin:0; font-size:100%; font-family:Arial, sans-serif; background-color:#0074ff; overflow:hidden; box-shadow:0 4px 8px rgba(0, 0, 0, 0.3);\"><b> 10. 📊 Historial GIT </b></div>"
   ]
  },
  {
   "cell_type": "markdown",
   "metadata": {},
   "source": [
    "1. Initial commit"
   ]
  },
  {
   "cell_type": "markdown",
   "metadata": {},
   "source": [
    "<span style=\"font-size:30px; color:lightgreen\">\n",
    "INDICE TAREAS PROYECTO:\n",
    "</span>"
   ]
  },
  {
   "cell_type": "markdown",
   "metadata": {},
   "source": [
    "![Indice de Tareas del Proyecto](./Indice_Tareas_Proyecto.jpg)\n",
    "\n"
   ]
  }
 ],
 "metadata": {
  "kernelspec": {
   "display_name": "Python 3",
   "language": "python",
   "name": "python3"
  },
  "language_info": {
   "codemirror_mode": {
    "name": "ipython",
    "version": 3
   },
   "file_extension": ".py",
   "mimetype": "text/x-python",
   "name": "python",
   "nbconvert_exporter": "python",
   "pygments_lexer": "ipython3",
   "version": "3.12.6"
  }
 },
 "nbformat": 4,
 "nbformat_minor": 2
}
